{
  "nbformat": 4,
  "nbformat_minor": 0,
  "metadata": {
    "colab": {
      "provenance": [],
      "authorship_tag": "ABX9TyPDADW1ogP6KOqoFZP651fo",
      "include_colab_link": true
    },
    "kernelspec": {
      "name": "python3",
      "display_name": "Python 3"
    },
    "language_info": {
      "name": "python"
    }
  },
  "cells": [
    {
      "cell_type": "markdown",
      "metadata": {
        "id": "view-in-github",
        "colab_type": "text"
      },
      "source": [
        "<a href=\"https://colab.research.google.com/github/ManelSoengas/Regex/blob/main/Regex.ipynb\" target=\"_parent\"><img src=\"https://colab.research.google.com/assets/colab-badge.svg\" alt=\"Open In Colab\"/></a>"
      ]
    },
    {
      "cell_type": "markdown",
      "source": [
        "# **Regular Expressions**\n",
        "\n",
        "\n",
        "---\n",
        "\n",
        "Examples of use"
      ],
      "metadata": {
        "id": "gZwnvpYupkfk"
      }
    },
    {
      "cell_type": "code",
      "execution_count": 2,
      "metadata": {
        "colab": {
          "base_uri": "https://localhost:8080/"
        },
        "id": "_39XhAUDpdbm",
        "outputId": "d8ac2ba5-ae44-418f-89e6-771308156350"
      },
      "outputs": [
        {
          "output_type": "stream",
          "name": "stdout",
          "text": [
            "['reto']\n"
          ]
        }
      ],
      "source": [
        "import re\n",
        "\n",
        "texto = \"La vida es un reto diario, hay que afrontarlo día a día.\"\n",
        "patron = \"reto\"\n",
        "\n",
        "coincidencias = re.findall(patron, texto)\n",
        "print(coincidencias)\n"
      ]
    },
    {
      "cell_type": "code",
      "source": [
        "texto = \"La vida es un reto diario, hay que afrontarlo día a día\"\n",
        "patron = r\"\\s+\"\n",
        "\n",
        "palabras = re.split(patron, texto)\n",
        "print(palabras)"
      ],
      "metadata": {
        "colab": {
          "base_uri": "https://localhost:8080/"
        },
        "id": "CP5mb9RRqldW",
        "outputId": "06dcbfa4-12f1-4d7b-e8e8-41231b89436b"
      },
      "execution_count": 3,
      "outputs": [
        {
          "output_type": "stream",
          "name": "stdout",
          "text": [
            "['La', 'vida', 'es', 'un', 'reto', 'diario,', 'hay', 'que', 'afrontarlo', 'día', 'a', 'día']\n"
          ]
        }
      ]
    },
    {
      "cell_type": "code",
      "source": [
        "texto = \"Por favor, envia una petición a info_empresa-2@example.com para más información.\"\n",
        "patron = r\"[a-zA-Z0-9_.+-]+@[a-zA-Z0-9-]+\\.[a-zA-Z0-9-.]+\"\n",
        "\n",
        "correos = re.findall(patron, texto)\n",
        "print(correos)\n"
      ],
      "metadata": {
        "colab": {
          "base_uri": "https://localhost:8080/"
        },
        "id": "n3ZL8K4Cr2JO",
        "outputId": "e702a5c7-cf82-4a0a-b5dd-c9a5901f2658"
      },
      "execution_count": 5,
      "outputs": [
        {
          "output_type": "stream",
          "name": "stdout",
          "text": [
            "['info_empresa-2@example.com']\n"
          ]
        }
      ]
    },
    {
      "cell_type": "code",
      "source": [
        "texto = \"Nombre: Juan, Edad: 28\"\n",
        "patron = r\"Nombre: ([a-zA-Z0-9_]+), Edad: (\\d+)\"\n",
        "#patron = r\"Nombre: (\\w+), Edad: (\\d+)\"\n",
        "coincidencia = re.search(patron, texto)\n",
        "if coincidencia:\n",
        "    nombre = coincidencia.group(1)\n",
        "    edad = coincidencia.group(2)\n",
        "    print(nombre, edad)  # Juan 28\n"
      ],
      "metadata": {
        "colab": {
          "base_uri": "https://localhost:8080/"
        },
        "id": "RIIrjUrHs0Ft",
        "outputId": "abc6d439-1acc-49f1-d655-c526be00fb6f"
      },
      "execution_count": 14,
      "outputs": [
        {
          "output_type": "stream",
          "name": "stdout",
          "text": [
            "Juan 28\n"
          ]
        }
      ]
    },
    {
      "cell_type": "markdown",
      "source": [
        "**RegEX is widely used in data cleansing for NLP processes.**"
      ],
      "metadata": {
        "id": "AmQSpZ-wuUm8"
      }
    }
  ]
}